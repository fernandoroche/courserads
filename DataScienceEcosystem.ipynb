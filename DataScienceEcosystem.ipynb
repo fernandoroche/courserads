{
 "cells": [
  {
   "cell_type": "markdown",
   "id": "5f963302-8eab-4915-b35f-e64cac77c6ed",
   "metadata": {},
   "source": [
    "# Data Science Tools and Ecosystem"
   ]
  },
  {
   "cell_type": "markdown",
   "id": "a937d87d-59db-41fe-a653-840addbce6d3",
   "metadata": {},
   "source": [
    "In this notebook, Data Science Tools and Ecosystem are summarized."
   ]
  },
  {
   "cell_type": "markdown",
   "id": "977a9a67-0c89-490d-9ca1-7c57adb372bd",
   "metadata": {},
   "source": [
    "**Objectives:**\n",
    "* Create a Jupyter Notebook.\n",
    "* Insert code and markdown cells.\n",
    "* Learn how to evaluate arithmetic expressions."
   ]
  },
  {
   "cell_type": "markdown",
   "id": "d80090f3-74d3-41dd-847f-59c7c827dc98",
   "metadata": {},
   "source": [
    "Some of the popular languages that Data Scientists use are:\n",
    "1. Python\n",
    "2. R\n",
    "3. SQL"
   ]
  },
  {
   "cell_type": "markdown",
   "id": "000c4434-a75d-4866-85e2-3c6198b63847",
   "metadata": {},
   "source": [
    "Some of the commonly used libraries used by Data Scientists include:\n",
    "1. Numpy\n",
    "2. Pandas\n",
    "3. TensorFlow\n",
    "4. Matplot\n",
    "5. Scikit-Learn"
   ]
  },
  {
   "cell_type": "markdown",
   "id": "263c3ca6-bdae-4fb5-aa38-0c36f08976da",
   "metadata": {},
   "source": [
    "| Data Science Tools |\n",
    "| ------------------ |\n",
    "| Python-Based Tools |\n",
    "| Apache Hadoop      |\n",
    "| Apache Spark       |"
   ]
  },
  {
   "cell_type": "markdown",
   "id": "36cc524b-a157-4def-a615-d04cfa056fd1",
   "metadata": {},
   "source": [
    "# Below are a few examples of evaluating arithmetic expressions in Python\n",
    "\n",
    "##### Given two variables a, b:\n",
    "#####  Addition: addition = a + b\n",
    "##### Subtraction: subtraction = a - b\n",
    "##### Multiplication: multiplication =  a * b\n",
    "##### Division: division = a * b\n",
    "##### To display the value of the algebric expression on the screen, use the \"print\" command:\n",
    "##### In the example, replace the variable \"algebric_operation\" with the variable for the operation in question.\n",
    "##### printf(f\"Algebric Operation = {algebric_operation}\")"
   ]
  },
  {
   "cell_type": "code",
   "execution_count": 4,
   "id": "762c2251-4e00-478d-b12f-98790a8760cb",
   "metadata": {
    "tags": []
   },
   "outputs": [
    {
     "data": {
      "text/plain": [
       "17"
      ]
     },
     "execution_count": 4,
     "metadata": {},
     "output_type": "execute_result"
    }
   ],
   "source": [
    "(3*4)+5\n",
    "# This a simple arithmetic expression to mutiply then add integers."
   ]
  },
  {
   "cell_type": "code",
   "execution_count": 5,
   "id": "8517feb3-f185-46e4-826c-be720202ce22",
   "metadata": {
    "tags": []
   },
   "outputs": [
    {
     "name": "stdout",
     "output_type": "stream",
     "text": [
      "3:20\n"
     ]
    }
   ],
   "source": [
    "total_minutes = 200\n",
    "hours = total_minutes // 60\n",
    "minutes = total_minutes % 60\n",
    "time = \"{}:{}\".format(hours, minutes)\n",
    "print(time)\n",
    "# This will convert 200 minutes to hours by diving by 60"
   ]
  },
  {
   "cell_type": "markdown",
   "id": "a86ade96-82cb-4e2c-859b-0a5bc2ffe472",
   "metadata": {},
   "source": [
    "## Author:\n",
    "Fernando Barros"
   ]
  },
  {
   "cell_type": "code",
   "execution_count": null,
   "id": "fde9c6ba-bf00-4709-a9f6-8163b2e52984",
   "metadata": {},
   "outputs": [],
   "source": []
  }
 ],
 "metadata": {
  "kernelspec": {
   "display_name": "Python",
   "language": "python",
   "name": "conda-env-python-py"
  },
  "language_info": {
   "codemirror_mode": {
    "name": "ipython",
    "version": 3
   },
   "file_extension": ".py",
   "mimetype": "text/x-python",
   "name": "python",
   "nbconvert_exporter": "python",
   "pygments_lexer": "ipython3",
   "version": "3.7.12"
  }
 },
 "nbformat": 4,
 "nbformat_minor": 5
}
